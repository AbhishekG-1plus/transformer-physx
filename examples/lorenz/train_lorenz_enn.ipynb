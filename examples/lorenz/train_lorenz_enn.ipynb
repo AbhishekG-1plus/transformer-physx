{
  "nbformat": 4,
  "nbformat_minor": 0,
  "metadata": {
    "accelerator": "GPU",
    "colab": {
      "name": "train_lorenz_enn.ipynb",
      "provenance": [],
      "collapsed_sections": []
    },
    "interpreter": {
      "hash": "75e1510848ff81b2a8a3022c3bfac472ed28a49a56e1422a056d525171f2408b"
    },
    "kernelspec": {
      "display_name": "Python 3.6.9 64-bit ('base': conda)",
      "name": "python3"
    },
    "language_info": {
      "name": "python",
      "version": ""
    }
  },
  "cells": [
    {
      "cell_type": "code",
      "metadata": {
        "colab": {
          "base_uri": "https://localhost:8080/"
        },
        "id": "FPjTnCG-v2Z6",
        "outputId": "64e43a07-0f9a-479b-d2a5-9b4698abad87"
      },
      "source": [
        "\"\"\"\n",
        "Notebook for training the embedding model for the Lorenz system.\n",
        "=====\n",
        "Distributed by: Notre Dame SCAI Lab (MIT Liscense)\n",
        "- Associated publication:\n",
        "url: https://arxiv.org/abs/2010.03957\n",
        "doi: \n",
        "github: https://github.com/zabaras/transformer-physx\n",
        "=====\n",
        "\"\"\"\n",
        "!nvidia-smi"
      ],
      "execution_count": 1,
      "outputs": [
        {
          "output_type": "stream",
          "text": [
            "Sun Jul 18 20:03:28 2021       \n",
            "+-----------------------------------------------------------------------------+\n",
            "| NVIDIA-SMI 470.42.01    Driver Version: 460.32.03    CUDA Version: 11.2     |\n",
            "|-------------------------------+----------------------+----------------------+\n",
            "| GPU  Name        Persistence-M| Bus-Id        Disp.A | Volatile Uncorr. ECC |\n",
            "| Fan  Temp  Perf  Pwr:Usage/Cap|         Memory-Usage | GPU-Util  Compute M. |\n",
            "|                               |                      |               MIG M. |\n",
            "|===============================+======================+======================|\n",
            "|   0  Tesla T4            Off  | 00000000:00:04.0 Off |                    0 |\n",
            "| N/A   58C    P8    11W /  70W |      0MiB / 15109MiB |      0%      Default |\n",
            "|                               |                      |                  N/A |\n",
            "+-------------------------------+----------------------+----------------------+\n",
            "                                                                               \n",
            "+-----------------------------------------------------------------------------+\n",
            "| Processes:                                                                  |\n",
            "|  GPU   GI   CI        PID   Type   Process name                  GPU Memory |\n",
            "|        ID   ID                                                   Usage      |\n",
            "|=============================================================================|\n",
            "|  No running processes found                                                 |\n",
            "+-----------------------------------------------------------------------------+\n"
          ],
          "name": "stdout"
        }
      ]
    },
    {
      "cell_type": "markdown",
      "metadata": {
        "id": "34XMtg9FZFql"
      },
      "source": [
        "# Environment Setup"
      ]
    },
    {
      "cell_type": "markdown",
      "metadata": {
        "id": "TuqsYQ_2S4kq"
      },
      "source": [
        "Use pip to install from [PyPI](https://pypi.org/project/trphysx/)."
      ]
    },
    {
      "cell_type": "code",
      "metadata": {
        "colab": {
          "base_uri": "https://localhost:8080/"
        },
        "id": "gvm518_H3AK7",
        "outputId": "8209004f-fe62-4ec0-dc0d-c022db0e529a"
      },
      "source": [
        "!pip install trphysx"
      ],
      "execution_count": 2,
      "outputs": [
        {
          "output_type": "stream",
          "text": [
            "Collecting trphysx\n",
            "\u001b[?25l  Downloading https://files.pythonhosted.org/packages/ca/97/41e54fec607fc747e4ba62ebffa2983a5f828ee49705bce437bbff824240/trphysx-0.0.5-py3-none-any.whl (136kB)\n",
            "\r\u001b[K     |██▍                             | 10kB 24.8MB/s eta 0:00:01\r\u001b[K     |████▉                           | 20kB 31.7MB/s eta 0:00:01\r\u001b[K     |███████▏                        | 30kB 33.4MB/s eta 0:00:01\r\u001b[K     |█████████▋                      | 40kB 37.1MB/s eta 0:00:01\r\u001b[K     |████████████                    | 51kB 32.7MB/s eta 0:00:01\r\u001b[K     |██████████████▍                 | 61kB 33.9MB/s eta 0:00:01\r\u001b[K     |████████████████▊               | 71kB 32.3MB/s eta 0:00:01\r\u001b[K     |███████████████████▏            | 81kB 32.3MB/s eta 0:00:01\r\u001b[K     |█████████████████████▌          | 92kB 32.8MB/s eta 0:00:01\r\u001b[K     |████████████████████████        | 102kB 34.4MB/s eta 0:00:01\r\u001b[K     |██████████████████████████▎     | 112kB 34.4MB/s eta 0:00:01\r\u001b[K     |████████████████████████████▊   | 122kB 34.4MB/s eta 0:00:01\r\u001b[K     |███████████████████████████████▏| 133kB 34.4MB/s eta 0:00:01\r\u001b[K     |████████████████████████████████| 143kB 34.4MB/s \n",
            "\u001b[?25hRequirement already satisfied: matplotlib>=3.0.0 in /usr/local/lib/python3.7/dist-packages (from trphysx) (3.2.2)\n",
            "Requirement already satisfied: h5py>=2.9.0 in /usr/local/lib/python3.7/dist-packages (from trphysx) (3.1.0)\n",
            "Requirement already satisfied: filelock>=3.0.0 in /usr/local/lib/python3.7/dist-packages (from trphysx) (3.0.12)\n",
            "Requirement already satisfied: torch>=1.7.0 in /usr/local/lib/python3.7/dist-packages (from trphysx) (1.9.0+cu102)\n",
            "Requirement already satisfied: numpy>=1.15.0 in /usr/local/lib/python3.7/dist-packages (from trphysx) (1.19.5)\n",
            "Requirement already satisfied: kiwisolver>=1.0.1 in /usr/local/lib/python3.7/dist-packages (from matplotlib>=3.0.0->trphysx) (1.3.1)\n",
            "Requirement already satisfied: pyparsing!=2.0.4,!=2.1.2,!=2.1.6,>=2.0.1 in /usr/local/lib/python3.7/dist-packages (from matplotlib>=3.0.0->trphysx) (2.4.7)\n",
            "Requirement already satisfied: cycler>=0.10 in /usr/local/lib/python3.7/dist-packages (from matplotlib>=3.0.0->trphysx) (0.10.0)\n",
            "Requirement already satisfied: python-dateutil>=2.1 in /usr/local/lib/python3.7/dist-packages (from matplotlib>=3.0.0->trphysx) (2.8.1)\n",
            "Requirement already satisfied: cached-property; python_version < \"3.8\" in /usr/local/lib/python3.7/dist-packages (from h5py>=2.9.0->trphysx) (1.5.2)\n",
            "Requirement already satisfied: typing-extensions in /usr/local/lib/python3.7/dist-packages (from torch>=1.7.0->trphysx) (3.7.4.3)\n",
            "Requirement already satisfied: six in /usr/local/lib/python3.7/dist-packages (from cycler>=0.10->matplotlib>=3.0.0->trphysx) (1.15.0)\n",
            "Installing collected packages: trphysx\n",
            "Successfully installed trphysx-0.0.5\n"
          ],
          "name": "stdout"
        }
      ]
    },
    {
      "cell_type": "markdown",
      "metadata": {
        "id": "HoBoGx0J0LtZ"
      },
      "source": [
        "Mount google drive and create a folder to work in."
      ]
    },
    {
      "cell_type": "code",
      "metadata": {
        "colab": {
          "base_uri": "https://localhost:8080/"
        },
        "id": "3K0hSst0b2Ak",
        "outputId": "a440fbdb-cc4f-4d32-de06-1bee175a1629"
      },
      "source": [
        "from google.colab import drive\n",
        "drive.mount('/content/gdrive')"
      ],
      "execution_count": 3,
      "outputs": [
        {
          "output_type": "stream",
          "text": [
            "Mounted at /content/gdrive\n"
          ],
          "name": "stdout"
        }
      ]
    },
    {
      "cell_type": "code",
      "metadata": {
        "colab": {
          "base_uri": "https://localhost:8080/"
        },
        "id": "9zaXL-m8xEx9",
        "outputId": "76d95396-b222-4627-81c6-52c8f87378cf"
      },
      "source": [
        "%cd /content/gdrive/MyDrive/\n",
        "% mkdir -p transformer_physx/lorenz\n",
        "% cd transformer_physx/lorenz"
      ],
      "execution_count": 4,
      "outputs": [
        {
          "output_type": "stream",
          "text": [
            "/content/gdrive/MyDrive\n",
            "/content/gdrive/MyDrive/transformer_physx/lorenz\n"
          ],
          "name": "stdout"
        }
      ]
    },
    {
      "cell_type": "markdown",
      "metadata": {
        "id": "6MK_h8wF0Rr4"
      },
      "source": [
        "Now lets download the training and validation data for the lorenz system. Info on wget from [Google drive](https://stackoverflow.com/questions/37453841/download-a-file-from-google-drive-using-wget). This will eventually be update to zenodo repo."
      ]
    },
    {
      "cell_type": "code",
      "metadata": {
        "id": "2NtZ02zD0EKo",
        "colab": {
          "base_uri": "https://localhost:8080/"
        },
        "outputId": "050c1f85-9e67-484e-9d5e-3d586ea65bf8"
      },
      "source": [
        "!mkdir data"
      ],
      "execution_count": 5,
      "outputs": [
        {
          "output_type": "stream",
          "text": [
            "mkdir: cannot create directory ‘data’: File exists\n"
          ],
          "name": "stdout"
        }
      ]
    },
    {
      "cell_type": "code",
      "metadata": {
        "colab": {
          "base_uri": "https://localhost:8080/"
        },
        "id": "cU702uo6xIQQ",
        "outputId": "0b9dae12-97f7-460b-ddb9-e2671306d46c"
      },
      "source": [
        "!wget -O ./data/lorenz_training_rk.hdf5 \"https://drive.google.com/uc?export=download&id=1vGTGzaqEZxxuLN9K-PUrYw9SLWttdDYd\"\n",
        "!wget -O ./data/lorenz_valid_rk.hdf5 \"https://drive.google.com/uc?export=download&id=1bxFzKg8tSagE8kXWGm2mtaJ4gPsKJ8sI\""
      ],
      "execution_count": 6,
      "outputs": [
        {
          "output_type": "stream",
          "text": [
            "--2021-07-18 20:04:05--  https://drive.google.com/uc?export=download&id=1vGTGzaqEZxxuLN9K-PUrYw9SLWttdDYd\n",
            "Resolving drive.google.com (drive.google.com)... 172.217.164.174, 2607:f8b0:4004:815::200e\n",
            "Connecting to drive.google.com (drive.google.com)|172.217.164.174|:443... connected.\n",
            "HTTP request sent, awaiting response... 302 Moved Temporarily\n",
            "Location: https://doc-0o-0o-docs.googleusercontent.com/docs/securesc/ha0ro937gcuc7l7deffksulhg5h7mbp1/vun9g6vu9o8cbjrhujiua1a72o6jbq49/1626638625000/01559412990587423567/*/1vGTGzaqEZxxuLN9K-PUrYw9SLWttdDYd?e=download [following]\n",
            "Warning: wildcards not supported in HTTP.\n",
            "--2021-07-18 20:04:06--  https://doc-0o-0o-docs.googleusercontent.com/docs/securesc/ha0ro937gcuc7l7deffksulhg5h7mbp1/vun9g6vu9o8cbjrhujiua1a72o6jbq49/1626638625000/01559412990587423567/*/1vGTGzaqEZxxuLN9K-PUrYw9SLWttdDYd?e=download\n",
            "Resolving doc-0o-0o-docs.googleusercontent.com (doc-0o-0o-docs.googleusercontent.com)... 172.217.2.97, 2607:f8b0:4004:80a::2001\n",
            "Connecting to doc-0o-0o-docs.googleusercontent.com (doc-0o-0o-docs.googleusercontent.com)|172.217.2.97|:443... connected.\n",
            "HTTP request sent, awaiting response... 200 OK\n",
            "Length: unspecified [application/x-hdf]\n",
            "Saving to: ‘./data/lorenz_training_rk.hdf5’\n",
            "\n",
            "./data/lorenz_train     [  <=>               ]  12.78M  49.1MB/s    in 0.3s    \n",
            "\n",
            "2021-07-18 20:04:06 (49.1 MB/s) - ‘./data/lorenz_training_rk.hdf5’ saved [13403392]\n",
            "\n",
            "--2021-07-18 20:04:07--  https://drive.google.com/uc?export=download&id=1bxFzKg8tSagE8kXWGm2mtaJ4gPsKJ8sI\n",
            "Resolving drive.google.com (drive.google.com)... 172.217.164.174, 2607:f8b0:4004:808::200e\n",
            "Connecting to drive.google.com (drive.google.com)|172.217.164.174|:443... connected.\n",
            "HTTP request sent, awaiting response... 302 Moved Temporarily\n",
            "Location: https://doc-14-0o-docs.googleusercontent.com/docs/securesc/ha0ro937gcuc7l7deffksulhg5h7mbp1/6l1roq81hpbiktgsvnh56dl6u2g66bpg/1626638625000/01559412990587423567/*/1bxFzKg8tSagE8kXWGm2mtaJ4gPsKJ8sI?e=download [following]\n",
            "Warning: wildcards not supported in HTTP.\n",
            "--2021-07-18 20:04:07--  https://doc-14-0o-docs.googleusercontent.com/docs/securesc/ha0ro937gcuc7l7deffksulhg5h7mbp1/6l1roq81hpbiktgsvnh56dl6u2g66bpg/1626638625000/01559412990587423567/*/1bxFzKg8tSagE8kXWGm2mtaJ4gPsKJ8sI?e=download\n",
            "Resolving doc-14-0o-docs.googleusercontent.com (doc-14-0o-docs.googleusercontent.com)... 172.217.2.97, 2607:f8b0:4004:80a::2001\n",
            "Connecting to doc-14-0o-docs.googleusercontent.com (doc-14-0o-docs.googleusercontent.com)|172.217.2.97|:443... connected.\n",
            "HTTP request sent, awaiting response... 200 OK\n",
            "Length: 1598976 (1.5M) [application/x-hdf]\n",
            "Saving to: ‘./data/lorenz_valid_rk.hdf5’\n",
            "\n",
            "./data/lorenz_valid 100%[===================>]   1.52M  --.-KB/s    in 0.08s   \n",
            "\n",
            "2021-07-18 20:04:07 (18.4 MB/s) - ‘./data/lorenz_valid_rk.hdf5’ saved [1598976/1598976]\n",
            "\n"
          ],
          "name": "stdout"
        }
      ]
    },
    {
      "cell_type": "markdown",
      "metadata": {
        "id": "dCHiYnrdZN95"
      },
      "source": [
        "# Transformer-PhysX Lorenz System"
      ]
    },
    {
      "cell_type": "markdown",
      "metadata": {
        "id": "YDVeeJHn11Ir"
      },
      "source": [
        "Train the embedding model.\n",
        "First import necessary modules from trphysx. "
      ]
    },
    {
      "cell_type": "code",
      "metadata": {
        "id": "dNGVZQ-o1gsH"
      },
      "source": [
        "import sys, os\n",
        "import logging\n",
        "\n",
        "import torch\n",
        "from torch.optim.lr_scheduler import ExponentialLR\n",
        "\n",
        "from trphysx.config.configuration_auto import AutoPhysConfig\n",
        "from trphysx.embedding.embedding_auto import AutoEmbeddingModel\n",
        "from trphysx.embedding.training import *"
      ],
      "execution_count": 7,
      "outputs": []
    },
    {
      "cell_type": "markdown",
      "metadata": {
        "id": "YEft0ltg4swx"
      },
      "source": [
        "Training arguments."
      ]
    },
    {
      "cell_type": "code",
      "metadata": {
        "id": "8R8QQ0cj4qR9"
      },
      "source": [
        "argv = []\n",
        "argv = argv + [\"--exp_name\", \"lorenz\"]\n",
        "argv = argv + [\"--training_h5_file\", \"./data/lorenz_training_rk.hdf5\"]\n",
        "argv = argv + [\"--eval_h5_file\", \"./data/lorenz_valid_rk.hdf5\"]\n",
        "argv = argv + [\"--batch_size\", '512']\n",
        "argv = argv + [\"--block_size\", \"16\"]\n",
        "argv = argv + [\"--ntrain\", \"2048\"]\n",
        "argv = argv + [\"--epochs\", \"100\"]"
      ],
      "execution_count": 8,
      "outputs": []
    },
    {
      "cell_type": "code",
      "metadata": {
        "colab": {
          "base_uri": "https://localhost:8080/"
        },
        "id": "wcBfHEh540f6",
        "outputId": "3dc51712-c02b-4734-e8ad-c825b83f8844"
      },
      "source": [
        "args = EmbeddingParser().parse(args=argv)  \n",
        "\n",
        "if(torch.cuda.is_available()):\n",
        "    use_cuda = \"cuda\"\n",
        "args.device = torch.device(\"cuda:0\" if torch.cuda.is_available() else \"cpu\")\n",
        "print(\"Torch device:{}\".format(args.device))\n",
        "\n",
        "# Setup logging\n",
        "logging.basicConfig(\n",
        "    format=\"%(asctime)s - %(levelname)s - %(name)s -   %(message)s\",\n",
        "    datefmt=\"%m/%d/%Y %H:%M:%S\",\n",
        "    level=logging.INFO)\n"
      ],
      "execution_count": 9,
      "outputs": [
        {
          "output_type": "stream",
          "text": [
            "Torch device:cuda:0\n"
          ],
          "name": "stdout"
        }
      ]
    },
    {
      "cell_type": "markdown",
      "metadata": {
        "id": "T9Fel9vqZVsH"
      },
      "source": [
        "## Initializing Datasets and Models"
      ]
    },
    {
      "cell_type": "markdown",
      "metadata": {
        "id": "JjxiqD3lF98_"
      },
      "source": [
        "Now we can use the auto classes to initialized the predefined configs, dataloaders and models. This may take a bit!"
      ]
    },
    {
      "cell_type": "code",
      "metadata": {
        "colab": {
          "base_uri": "https://localhost:8080/"
        },
        "id": "EcpC9Fy243RN",
        "outputId": "59444fe2-72f7-49f7-d176-88404478a743"
      },
      "source": [
        " # Load transformer config file\n",
        "config = AutoPhysConfig.load_config(args.exp_name)\n",
        "dataloader = AutoDataHandler.load_data_handler(args.exp_name)\n",
        "\n",
        "# Set up data-loaders\n",
        "training_loader = dataloader.createTrainingLoader(args.training_h5_file, block_size=args.block_size, stride=args.stride, ndata=args.ntrain, batch_size=args.batch_size)\n",
        "testing_loader = dataloader.createTestingLoader(args.eval_h5_file, block_size=32, ndata=args.ntest, batch_size=8)\n",
        "\n",
        "# Set up model\n",
        "model = AutoEmbeddingModel.init_trainer(args.exp_name, config).to(args.device)\n",
        "mu, std = dataloader.norm_params\n",
        "model.embedding_model.mu = mu.to(args.device)\n",
        "model.embedding_model.std = std.to(args.device)\n",
        "if args.epoch_start > 1:\n",
        "  model.load_model(args.ckpt_dir, args.epoch_start)\n"
      ],
      "execution_count": 10,
      "outputs": [
        {
          "output_type": "stream",
          "text": [
            "07/18/2021 20:04:19 - INFO - trphysx.embedding.training.enn_data_handler -   Creating training loader.\n",
            "07/18/2021 20:04:51 - INFO - trphysx.embedding.training.enn_data_handler -   Creating testing loader\n",
            "07/18/2021 20:04:52 - INFO - trphysx.embedding.embedding_lorenz -   Number of embedding parameters: 36192\n"
          ],
          "name": "stderr"
        }
      ]
    },
    {
      "cell_type": "markdown",
      "metadata": {
        "id": "auDiMVZ5UfNz"
      },
      "source": [
        "Initialize optimizer and scheduler. Feel free to change if you want to experiment."
      ]
    },
    {
      "cell_type": "code",
      "metadata": {
        "id": "bnrtuKdhGuWQ"
      },
      "source": [
        "optimizer = torch.optim.Adam(model.parameters(), lr=args.lr*0.995**(args.epoch_start-1), weight_decay=1e-8)\n",
        "scheduler = ExponentialLR(optimizer, gamma=0.995)"
      ],
      "execution_count": 11,
      "outputs": []
    },
    {
      "cell_type": "markdown",
      "metadata": {
        "id": "It_LLGQIZe0b"
      },
      "source": [
        "## Training the Embedding Model"
      ]
    },
    {
      "cell_type": "markdown",
      "metadata": {
        "id": "U2XPKfYTUuXf"
      },
      "source": [
        "Train the model. No visualization here, just boring numbers. This notebook only trains for 100 epochs for brevity, feel free to train longer. The test loss here is only the recovery loss MSE(x - decode(encode(x))) and does not reflect the quality of the Koopman dynamics."
      ]
    },
    {
      "cell_type": "code",
      "metadata": {
        "colab": {
          "base_uri": "https://localhost:8080/"
        },
        "id": "2ic9DFQcUWpm",
        "outputId": "aad4bee1-50b2-4ddd-9fe8-3edbb66c23ce"
      },
      "source": [
        "trainer = EmbeddingTrainer(model, args, (optimizer, scheduler))\n",
        "trainer.train(training_loader, testing_loader)"
      ],
      "execution_count": 12,
      "outputs": [
        {
          "output_type": "stream",
          "text": [
            "07/18/2021 20:06:04 - INFO - trphysx.embedding.training.enn_trainer -   Epoch 1: Training loss 40621124.000, Lr 0.00100\n",
            "07/18/2021 20:06:04 - INFO - trphysx.embedding.training.enn_trainer -   Epoch 1: Test loss: 0.44\n",
            "07/18/2021 20:06:06 - INFO - trphysx.embedding.training.enn_trainer -   Epoch 2: Training loss 733321.812, Lr 0.00099\n",
            "07/18/2021 20:06:08 - INFO - trphysx.embedding.training.enn_trainer -   Epoch 3: Training loss 529222.688, Lr 0.00099\n",
            "07/18/2021 20:06:10 - INFO - trphysx.embedding.training.enn_trainer -   Epoch 4: Training loss 425458.938, Lr 0.00099\n",
            "07/18/2021 20:06:12 - INFO - trphysx.embedding.training.enn_trainer -   Epoch 5: Training loss 652651.062, Lr 0.00098\n",
            "07/18/2021 20:06:12 - INFO - trphysx.embedding.training.enn_trainer -   Epoch 5: Test loss: 0.39\n",
            "07/18/2021 20:06:14 - INFO - trphysx.embedding.training.enn_trainer -   Epoch 6: Training loss 783782.562, Lr 0.00098\n",
            "07/18/2021 20:06:16 - INFO - trphysx.embedding.training.enn_trainer -   Epoch 7: Training loss 378522.938, Lr 0.00097\n",
            "07/18/2021 20:06:18 - INFO - trphysx.embedding.training.enn_trainer -   Epoch 8: Training loss 300511.156, Lr 0.00097\n",
            "07/18/2021 20:06:21 - INFO - trphysx.embedding.training.enn_trainer -   Epoch 9: Training loss 279688.094, Lr 0.00096\n",
            "07/18/2021 20:06:23 - INFO - trphysx.embedding.training.enn_trainer -   Epoch 10: Training loss 574017.188, Lr 0.00096\n",
            "07/18/2021 20:06:23 - INFO - trphysx.embedding.training.enn_trainer -   Epoch 10: Test loss: 0.38\n",
            "07/18/2021 20:06:25 - INFO - trphysx.embedding.training.enn_trainer -   Epoch 11: Training loss 328817.156, Lr 0.00095\n",
            "07/18/2021 20:06:27 - INFO - trphysx.embedding.training.enn_trainer -   Epoch 12: Training loss 244459.859, Lr 0.00095\n",
            "07/18/2021 20:06:29 - INFO - trphysx.embedding.training.enn_trainer -   Epoch 13: Training loss 201832.031, Lr 0.00094\n",
            "07/18/2021 20:06:31 - INFO - trphysx.embedding.training.enn_trainer -   Epoch 14: Training loss 297025.562, Lr 0.00094\n",
            "07/18/2021 20:06:33 - INFO - trphysx.embedding.training.enn_trainer -   Epoch 15: Training loss 211454.812, Lr 0.00093\n",
            "07/18/2021 20:06:33 - INFO - trphysx.embedding.training.enn_trainer -   Epoch 15: Test loss: 0.43\n",
            "07/18/2021 20:06:35 - INFO - trphysx.embedding.training.enn_trainer -   Epoch 16: Training loss 230410.922, Lr 0.00093\n",
            "07/18/2021 20:06:37 - INFO - trphysx.embedding.training.enn_trainer -   Epoch 17: Training loss 340248.875, Lr 0.00092\n",
            "07/18/2021 20:06:39 - INFO - trphysx.embedding.training.enn_trainer -   Epoch 18: Training loss 286692.438, Lr 0.00092\n",
            "07/18/2021 20:06:41 - INFO - trphysx.embedding.training.enn_trainer -   Epoch 19: Training loss 210121.219, Lr 0.00091\n",
            "07/18/2021 20:06:43 - INFO - trphysx.embedding.training.enn_trainer -   Epoch 20: Training loss 187763.312, Lr 0.00091\n",
            "07/18/2021 20:06:43 - INFO - trphysx.embedding.training.enn_trainer -   Epoch 20: Test loss: 0.44\n",
            "07/18/2021 20:06:45 - INFO - trphysx.embedding.training.enn_trainer -   Epoch 21: Training loss 173717.359, Lr 0.00090\n",
            "07/18/2021 20:06:47 - INFO - trphysx.embedding.training.enn_trainer -   Epoch 22: Training loss 161858.594, Lr 0.00090\n",
            "07/18/2021 20:06:49 - INFO - trphysx.embedding.training.enn_trainer -   Epoch 23: Training loss 153142.219, Lr 0.00090\n",
            "07/18/2021 20:06:51 - INFO - trphysx.embedding.training.enn_trainer -   Epoch 24: Training loss 146916.953, Lr 0.00089\n",
            "07/18/2021 20:06:53 - INFO - trphysx.embedding.training.enn_trainer -   Epoch 25: Training loss 139697.547, Lr 0.00089\n",
            "07/18/2021 20:06:53 - INFO - trphysx.embedding.training.enn_trainer -   Epoch 25: Test loss: 0.45\n",
            "07/18/2021 20:06:53 - INFO - trphysx.embedding.training.enn_trainer -   Checkpointing model, optimizer and scheduler.\n",
            "07/18/2021 20:06:55 - INFO - trphysx.embedding.training.enn_trainer -   Epoch 26: Training loss 134319.859, Lr 0.00088\n",
            "07/18/2021 20:06:57 - INFO - trphysx.embedding.training.enn_trainer -   Epoch 27: Training loss 339473.688, Lr 0.00088\n",
            "07/18/2021 20:06:59 - INFO - trphysx.embedding.training.enn_trainer -   Epoch 28: Training loss 191062.750, Lr 0.00087\n",
            "07/18/2021 20:07:02 - INFO - trphysx.embedding.training.enn_trainer -   Epoch 29: Training loss 153706.266, Lr 0.00087\n",
            "07/18/2021 20:07:04 - INFO - trphysx.embedding.training.enn_trainer -   Epoch 30: Training loss 133756.156, Lr 0.00086\n",
            "07/18/2021 20:07:04 - INFO - trphysx.embedding.training.enn_trainer -   Epoch 30: Test loss: 0.38\n",
            "07/18/2021 20:07:06 - INFO - trphysx.embedding.training.enn_trainer -   Epoch 31: Training loss 117164.656, Lr 0.00086\n",
            "07/18/2021 20:07:08 - INFO - trphysx.embedding.training.enn_trainer -   Epoch 32: Training loss 100381.094, Lr 0.00086\n",
            "07/18/2021 20:07:10 - INFO - trphysx.embedding.training.enn_trainer -   Epoch 33: Training loss 178065.625, Lr 0.00085\n",
            "07/18/2021 20:07:12 - INFO - trphysx.embedding.training.enn_trainer -   Epoch 34: Training loss 146255.562, Lr 0.00085\n",
            "07/18/2021 20:07:14 - INFO - trphysx.embedding.training.enn_trainer -   Epoch 35: Training loss 115386.414, Lr 0.00084\n",
            "07/18/2021 20:07:14 - INFO - trphysx.embedding.training.enn_trainer -   Epoch 35: Test loss: 0.42\n",
            "07/18/2021 20:07:16 - INFO - trphysx.embedding.training.enn_trainer -   Epoch 36: Training loss 102444.945, Lr 0.00084\n",
            "07/18/2021 20:07:18 - INFO - trphysx.embedding.training.enn_trainer -   Epoch 37: Training loss 92413.992, Lr 0.00083\n",
            "07/18/2021 20:07:20 - INFO - trphysx.embedding.training.enn_trainer -   Epoch 38: Training loss 84267.852, Lr 0.00083\n",
            "07/18/2021 20:07:22 - INFO - trphysx.embedding.training.enn_trainer -   Epoch 39: Training loss 309969.406, Lr 0.00083\n",
            "07/18/2021 20:07:24 - INFO - trphysx.embedding.training.enn_trainer -   Epoch 40: Training loss 211985.656, Lr 0.00082\n",
            "07/18/2021 20:07:24 - INFO - trphysx.embedding.training.enn_trainer -   Epoch 40: Test loss: 0.41\n",
            "07/18/2021 20:07:26 - INFO - trphysx.embedding.training.enn_trainer -   Epoch 41: Training loss 141925.422, Lr 0.00082\n",
            "07/18/2021 20:07:29 - INFO - trphysx.embedding.training.enn_trainer -   Epoch 42: Training loss 120304.484, Lr 0.00081\n",
            "07/18/2021 20:07:31 - INFO - trphysx.embedding.training.enn_trainer -   Epoch 43: Training loss 111143.297, Lr 0.00081\n",
            "07/18/2021 20:07:33 - INFO - trphysx.embedding.training.enn_trainer -   Epoch 44: Training loss 99963.688, Lr 0.00081\n",
            "07/18/2021 20:07:35 - INFO - trphysx.embedding.training.enn_trainer -   Epoch 45: Training loss 95617.625, Lr 0.00080\n",
            "07/18/2021 20:07:35 - INFO - trphysx.embedding.training.enn_trainer -   Epoch 45: Test loss: 0.44\n",
            "07/18/2021 20:07:37 - INFO - trphysx.embedding.training.enn_trainer -   Epoch 46: Training loss 89460.148, Lr 0.00080\n",
            "07/18/2021 20:07:39 - INFO - trphysx.embedding.training.enn_trainer -   Epoch 47: Training loss 85131.773, Lr 0.00079\n",
            "07/18/2021 20:07:41 - INFO - trphysx.embedding.training.enn_trainer -   Epoch 48: Training loss 81913.117, Lr 0.00079\n",
            "07/18/2021 20:07:43 - INFO - trphysx.embedding.training.enn_trainer -   Epoch 49: Training loss 98877.406, Lr 0.00079\n",
            "07/18/2021 20:07:45 - INFO - trphysx.embedding.training.enn_trainer -   Epoch 50: Training loss 129710.531, Lr 0.00078\n",
            "07/18/2021 20:07:45 - INFO - trphysx.embedding.training.enn_trainer -   Epoch 50: Test loss: 0.40\n",
            "07/18/2021 20:07:45 - INFO - trphysx.embedding.training.enn_trainer -   Checkpointing model, optimizer and scheduler.\n",
            "07/18/2021 20:07:47 - INFO - trphysx.embedding.training.enn_trainer -   Epoch 51: Training loss 91726.039, Lr 0.00078\n",
            "07/18/2021 20:07:49 - INFO - trphysx.embedding.training.enn_trainer -   Epoch 52: Training loss 82034.055, Lr 0.00077\n",
            "07/18/2021 20:07:51 - INFO - trphysx.embedding.training.enn_trainer -   Epoch 53: Training loss 76683.141, Lr 0.00077\n",
            "07/18/2021 20:07:53 - INFO - trphysx.embedding.training.enn_trainer -   Epoch 54: Training loss 69648.883, Lr 0.00077\n",
            "07/18/2021 20:07:55 - INFO - trphysx.embedding.training.enn_trainer -   Epoch 55: Training loss 61252.891, Lr 0.00076\n",
            "07/18/2021 20:07:55 - INFO - trphysx.embedding.training.enn_trainer -   Epoch 55: Test loss: 0.40\n",
            "07/18/2021 20:07:57 - INFO - trphysx.embedding.training.enn_trainer -   Epoch 56: Training loss 121598.602, Lr 0.00076\n",
            "07/18/2021 20:07:59 - INFO - trphysx.embedding.training.enn_trainer -   Epoch 57: Training loss 92184.406, Lr 0.00076\n",
            "07/18/2021 20:08:01 - INFO - trphysx.embedding.training.enn_trainer -   Epoch 58: Training loss 87949.227, Lr 0.00075\n",
            "07/18/2021 20:08:03 - INFO - trphysx.embedding.training.enn_trainer -   Epoch 59: Training loss 73238.797, Lr 0.00075\n",
            "07/18/2021 20:08:06 - INFO - trphysx.embedding.training.enn_trainer -   Epoch 60: Training loss 63366.121, Lr 0.00074\n",
            "07/18/2021 20:08:06 - INFO - trphysx.embedding.training.enn_trainer -   Epoch 60: Test loss: 0.40\n",
            "07/18/2021 20:08:08 - INFO - trphysx.embedding.training.enn_trainer -   Epoch 61: Training loss 102759.781, Lr 0.00074\n",
            "07/18/2021 20:08:10 - INFO - trphysx.embedding.training.enn_trainer -   Epoch 62: Training loss 150250.312, Lr 0.00074\n",
            "07/18/2021 20:08:12 - INFO - trphysx.embedding.training.enn_trainer -   Epoch 63: Training loss 91833.266, Lr 0.00073\n",
            "07/18/2021 20:08:14 - INFO - trphysx.embedding.training.enn_trainer -   Epoch 64: Training loss 64959.902, Lr 0.00073\n",
            "07/18/2021 20:08:16 - INFO - trphysx.embedding.training.enn_trainer -   Epoch 65: Training loss 78551.133, Lr 0.00073\n",
            "07/18/2021 20:08:16 - INFO - trphysx.embedding.training.enn_trainer -   Epoch 65: Test loss: 0.42\n",
            "07/18/2021 20:08:18 - INFO - trphysx.embedding.training.enn_trainer -   Epoch 66: Training loss 71582.914, Lr 0.00072\n",
            "07/18/2021 20:08:20 - INFO - trphysx.embedding.training.enn_trainer -   Epoch 67: Training loss 65907.750, Lr 0.00072\n",
            "07/18/2021 20:08:23 - INFO - trphysx.embedding.training.enn_trainer -   Epoch 68: Training loss 62868.059, Lr 0.00071\n",
            "07/18/2021 20:08:25 - INFO - trphysx.embedding.training.enn_trainer -   Epoch 69: Training loss 61217.406, Lr 0.00071\n",
            "07/18/2021 20:08:27 - INFO - trphysx.embedding.training.enn_trainer -   Epoch 70: Training loss 61236.789, Lr 0.00071\n",
            "07/18/2021 20:08:27 - INFO - trphysx.embedding.training.enn_trainer -   Epoch 70: Test loss: 0.41\n",
            "07/18/2021 20:08:29 - INFO - trphysx.embedding.training.enn_trainer -   Epoch 71: Training loss 59513.438, Lr 0.00070\n",
            "07/18/2021 20:08:31 - INFO - trphysx.embedding.training.enn_trainer -   Epoch 72: Training loss 55972.543, Lr 0.00070\n",
            "07/18/2021 20:08:33 - INFO - trphysx.embedding.training.enn_trainer -   Epoch 73: Training loss 54648.172, Lr 0.00070\n",
            "07/18/2021 20:08:35 - INFO - trphysx.embedding.training.enn_trainer -   Epoch 74: Training loss 53407.664, Lr 0.00069\n",
            "07/18/2021 20:08:37 - INFO - trphysx.embedding.training.enn_trainer -   Epoch 75: Training loss 54011.520, Lr 0.00069\n",
            "07/18/2021 20:08:37 - INFO - trphysx.embedding.training.enn_trainer -   Epoch 75: Test loss: 0.41\n",
            "07/18/2021 20:08:37 - INFO - trphysx.embedding.training.enn_trainer -   Checkpointing model, optimizer and scheduler.\n",
            "07/18/2021 20:08:39 - INFO - trphysx.embedding.training.enn_trainer -   Epoch 76: Training loss 64337.031, Lr 0.00069\n",
            "07/18/2021 20:08:42 - INFO - trphysx.embedding.training.enn_trainer -   Epoch 77: Training loss 60271.312, Lr 0.00068\n",
            "07/18/2021 20:08:44 - INFO - trphysx.embedding.training.enn_trainer -   Epoch 78: Training loss 55284.316, Lr 0.00068\n",
            "07/18/2021 20:08:46 - INFO - trphysx.embedding.training.enn_trainer -   Epoch 79: Training loss 51975.051, Lr 0.00068\n",
            "07/18/2021 20:08:48 - INFO - trphysx.embedding.training.enn_trainer -   Epoch 80: Training loss 49493.098, Lr 0.00067\n",
            "07/18/2021 20:08:48 - INFO - trphysx.embedding.training.enn_trainer -   Epoch 80: Test loss: 0.40\n",
            "07/18/2021 20:08:50 - INFO - trphysx.embedding.training.enn_trainer -   Epoch 81: Training loss 48472.410, Lr 0.00067\n",
            "07/18/2021 20:08:52 - INFO - trphysx.embedding.training.enn_trainer -   Epoch 82: Training loss 47305.211, Lr 0.00067\n",
            "07/18/2021 20:08:54 - INFO - trphysx.embedding.training.enn_trainer -   Epoch 83: Training loss 43588.230, Lr 0.00066\n",
            "07/18/2021 20:08:56 - INFO - trphysx.embedding.training.enn_trainer -   Epoch 84: Training loss 50842.477, Lr 0.00066\n",
            "07/18/2021 20:08:58 - INFO - trphysx.embedding.training.enn_trainer -   Epoch 85: Training loss 79520.117, Lr 0.00066\n",
            "07/18/2021 20:08:58 - INFO - trphysx.embedding.training.enn_trainer -   Epoch 85: Test loss: 0.43\n",
            "07/18/2021 20:09:00 - INFO - trphysx.embedding.training.enn_trainer -   Epoch 86: Training loss 45303.441, Lr 0.00065\n",
            "07/18/2021 20:09:02 - INFO - trphysx.embedding.training.enn_trainer -   Epoch 87: Training loss 40672.004, Lr 0.00065\n",
            "07/18/2021 20:09:04 - INFO - trphysx.embedding.training.enn_trainer -   Epoch 88: Training loss 38021.887, Lr 0.00065\n",
            "07/18/2021 20:09:06 - INFO - trphysx.embedding.training.enn_trainer -   Epoch 89: Training loss 34733.277, Lr 0.00064\n",
            "07/18/2021 20:09:08 - INFO - trphysx.embedding.training.enn_trainer -   Epoch 90: Training loss 32223.352, Lr 0.00064\n",
            "07/18/2021 20:09:08 - INFO - trphysx.embedding.training.enn_trainer -   Epoch 90: Test loss: 0.41\n",
            "07/18/2021 20:09:10 - INFO - trphysx.embedding.training.enn_trainer -   Epoch 91: Training loss 30897.541, Lr 0.00064\n",
            "07/18/2021 20:09:12 - INFO - trphysx.embedding.training.enn_trainer -   Epoch 92: Training loss 30077.629, Lr 0.00063\n",
            "07/18/2021 20:09:14 - INFO - trphysx.embedding.training.enn_trainer -   Epoch 93: Training loss 59433.457, Lr 0.00063\n",
            "07/18/2021 20:09:16 - INFO - trphysx.embedding.training.enn_trainer -   Epoch 94: Training loss 48097.961, Lr 0.00063\n",
            "07/18/2021 20:09:18 - INFO - trphysx.embedding.training.enn_trainer -   Epoch 95: Training loss 50217.312, Lr 0.00062\n",
            "07/18/2021 20:09:18 - INFO - trphysx.embedding.training.enn_trainer -   Epoch 95: Test loss: 0.40\n",
            "07/18/2021 20:09:20 - INFO - trphysx.embedding.training.enn_trainer -   Epoch 96: Training loss 53961.289, Lr 0.00062\n",
            "07/18/2021 20:09:22 - INFO - trphysx.embedding.training.enn_trainer -   Epoch 97: Training loss 51166.016, Lr 0.00062\n",
            "07/18/2021 20:09:24 - INFO - trphysx.embedding.training.enn_trainer -   Epoch 98: Training loss 44619.934, Lr 0.00061\n",
            "07/18/2021 20:09:26 - INFO - trphysx.embedding.training.enn_trainer -   Epoch 99: Training loss 42182.289, Lr 0.00061\n",
            "07/18/2021 20:09:28 - INFO - trphysx.embedding.training.enn_trainer -   Epoch 100: Training loss 40237.457, Lr 0.00061\n",
            "07/18/2021 20:09:28 - INFO - trphysx.embedding.training.enn_trainer -   Epoch 100: Test loss: 0.40\n",
            "07/18/2021 20:09:28 - INFO - trphysx.embedding.training.enn_trainer -   Checkpointing model, optimizer and scheduler.\n"
          ],
          "name": "stderr"
        }
      ]
    },
    {
      "cell_type": "markdown",
      "metadata": {
        "id": "h3ZEE4ixh8nr"
      },
      "source": [
        "Check your Google drive for checkpoints."
      ]
    },
    {
      "cell_type": "code",
      "metadata": {
        "id": "w7J5GgEFh_8t"
      },
      "source": [
        ""
      ],
      "execution_count": null,
      "outputs": []
    }
  ]
}